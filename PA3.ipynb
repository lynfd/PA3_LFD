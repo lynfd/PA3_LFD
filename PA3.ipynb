{
 "cells": [
  {
   "cell_type": "markdown",
   "id": "af02cc9e",
   "metadata": {},
   "source": [
    "# Assignment 3\n",
    "### Lyn Detwiler, CS-150-1, Version 3.3.2"
   ]
  },
  {
   "cell_type": "code",
   "execution_count": 8,
   "id": "7b77f4a6",
   "metadata": {},
   "outputs": [
    {
     "name": "stdout",
     "output_type": "stream",
     "text": [
      "0\n",
      "3\n",
      "6 *\n",
      "9 *\n",
      "12 *\n",
      "15 *\n",
      "18 *\n",
      "21 *\n",
      "24 *\n",
      "27 *\n",
      "30 *\n",
      "33 *\n",
      "36 *\n",
      "39 *\n",
      "42 *\n",
      "45 *\n",
      "48 *\n",
      "51 *\n",
      "54 *\n",
      "57 *\n",
      "60 *\n",
      "63 *\n",
      "66 *\n",
      "69 *\n",
      "72 *\n",
      "75 *\n",
      "78 *\n",
      "81 *\n",
      "84 *\n",
      "87 *\n",
      "90 *\n",
      "93 *\n",
      "96 *\n",
      "99 *\n"
     ]
    }
   ],
   "source": [
    "for number in range(101):\n",
    "    if number%3==0 and number!=0 and number!=3:\n",
    "        print(number,'*')\n",
    "    elif number%3==0:\n",
    "        print(number)"
   ]
  },
  {
   "cell_type": "code",
   "execution_count": 9,
   "id": "2c1a6af1",
   "metadata": {},
   "outputs": [
    {
     "name": "stdout",
     "output_type": "stream",
     "text": [
      "Please enter your age: 9\n",
      "You are a minor.\n"
     ]
    }
   ],
   "source": [
    "age=int(input(\"Please enter your age: \"))\n",
    "if 0<age<18:\n",
    "    print(\"You are a minor.\")\n",
    "elif 18<=age<65:\n",
    "    print(\"You are an adult.\")\n",
    "elif 65<=age:\n",
    "    print(\"You are a senior citizen.\")"
   ]
  },
  {
   "cell_type": "code",
   "execution_count": 10,
   "id": "0d0e0bb1",
   "metadata": {},
   "outputs": [
    {
     "name": "stdout",
     "output_type": "stream",
     "text": [
      "Please enter your age: 69\n",
      "You are a senior citizen.\n"
     ]
    }
   ],
   "source": [
    "age=int(input(\"Please enter your age: \"))\n",
    "if 0<age<18:\n",
    "    print(\"You are a minor.\")\n",
    "elif 18<=age<65:\n",
    "    print(\"You are an adult.\")\n",
    "elif 65<=age:\n",
    "    print(\"You are a senior citizen.\")"
   ]
  },
  {
   "cell_type": "code",
   "execution_count": 11,
   "id": "69cef422",
   "metadata": {},
   "outputs": [
    {
     "name": "stdout",
     "output_type": "stream",
     "text": [
      "Please enter your age: 56\n",
      "You are an adult.\n"
     ]
    }
   ],
   "source": [
    "age=int(input(\"Please enter your age: \"))\n",
    "if 0<age<18:\n",
    "    print(\"You are a minor.\")\n",
    "elif 18<=age<65:\n",
    "    print(\"You are an adult.\")\n",
    "elif 65<=age:\n",
    "    print(\"You are a senior citizen.\")"
   ]
  },
  {
   "cell_type": "code",
   "execution_count": 13,
   "id": "f5770cce",
   "metadata": {},
   "outputs": [
    {
     "name": "stdout",
     "output_type": "stream",
     "text": [
      "Please enter your age: 0\n"
     ]
    }
   ],
   "source": [
    "age=int(input(\"Please enter your age: \"))\n",
    "if 0<age<18:\n",
    "    print(\"You are a minor.\")\n",
    "elif 18<=age<65:\n",
    "    print(\"You are an adult.\")\n",
    "elif 65<=age:\n",
    "    print(\"You are a senior citizen.\")"
   ]
  },
  {
   "cell_type": "code",
   "execution_count": 24,
   "id": "adc8a836",
   "metadata": {},
   "outputs": [
    {
     "name": "stdout",
     "output_type": "stream",
     "text": [
      "12 : You are a minor.\n",
      "9 : You are a minor.\n"
     ]
    }
   ],
   "source": [
    "numbers=[65,78,34,56,12,9,43,67]\n",
    "for number in numbers:\n",
    "    if number>0 and number<18:\n",
    "        print(number,\": You are a minor.\")\n",
    "        continue\n",
    "    elif age>=18 and age<65:\n",
    "        print(number,\": You are an adult.\")\n",
    "    elif 65<=age:\n",
    "        print(number,\": You are a senior citizen.\")"
   ]
  },
  {
   "cell_type": "code",
   "execution_count": null,
   "id": "2a857e56",
   "metadata": {},
   "outputs": [],
   "source": []
  }
 ],
 "metadata": {
  "kernelspec": {
   "display_name": "Python 3 (ipykernel)",
   "language": "python",
   "name": "python3"
  },
  "language_info": {
   "codemirror_mode": {
    "name": "ipython",
    "version": 3
   },
   "file_extension": ".py",
   "mimetype": "text/x-python",
   "name": "python",
   "nbconvert_exporter": "python",
   "pygments_lexer": "ipython3",
   "version": "3.9.12"
  }
 },
 "nbformat": 4,
 "nbformat_minor": 5
}
